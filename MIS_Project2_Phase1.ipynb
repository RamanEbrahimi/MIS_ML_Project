{
  "nbformat": 4,
  "nbformat_minor": 0,
  "metadata": {
    "colab": {
      "name": "MIS_Project2_Phase1.ipynb",
      "provenance": [],
      "collapsed_sections": [],
      "authorship_tag": "ABX9TyOyoO/Q76Th1GNH2Ponz7AW",
      "include_colab_link": true
    },
    "kernelspec": {
      "name": "python3",
      "display_name": "Python 3"
    },
    "language_info": {
      "name": "python"
    }
  },
  "cells": [
    {
      "cell_type": "markdown",
      "metadata": {
        "id": "view-in-github",
        "colab_type": "text"
      },
      "source": [
        "<a href=\"https://colab.research.google.com/github/RamanEbrahimi/MIS_ML_Project/blob/main/MIS_Project2_Phase1.ipynb\" target=\"_parent\"><img src=\"https://colab.research.google.com/assets/colab-badge.svg\" alt=\"Open In Colab\"/></a>"
      ]
    },
    {
      "cell_type": "markdown",
      "source": [
        "# Management Information Systems - Project #2\n",
        "###### Team members: Raman Ebrahimi, Aref Roshan, Mohammad (Hesan) Samimi"
      ],
      "metadata": {
        "id": "KZ1AMvGTJOor"
      }
    },
    {
      "cell_type": "markdown",
      "source": [
        "Importing libraries we need\n"
      ],
      "metadata": {
        "id": "qsQ3BZamJYqk"
      }
    },
    {
      "cell_type": "code",
      "source": [
        "import numpy as np\n",
        "import pandas as pd\n",
        "from sklearn import preprocessing\n",
        "from sklearn.model_selection import train_test_split\n",
        "from sklearn.neighbors import KNeighborsClassifier\n",
        "from sklearn.metrics import classification_report, confusion_matrix\n",
        "from sklearn import metrics\n",
        "import seaborn as sns\n",
        "import matplotlib.pyplot as plt"
      ],
      "metadata": {
        "id": "fB-1fffQAXN0"
      },
      "execution_count": 64,
      "outputs": []
    },
    {
      "cell_type": "markdown",
      "source": [
        "Loading data and getting information about our data. \n",
        "We loaded the data on a Google Colab server, therefore we don't need to use it's path. To run \n",
        "on Windows, MacOS, or Linux you need to use he files' path. You can get their path using Terminal \n",
        "or the file itself."
      ],
      "metadata": {
        "id": "pQX_FQCWJck6"
      }
    },
    {
      "cell_type": "code",
      "source": [
        "df = pd.read_csv('Heart.csv')\n",
        "df.head(10) # printing top 10 rows of our dataframe\n",
        "\n",
        "# df.describe() # this command gives us some statistical information from our dataframe. \n",
        "\n",
        "# df.info() # this command gives us information about dataframe's structure. It's output is written below:\n",
        "# RangeIndex: 303 entries, 0 to 302\n",
        "# Data columns (total 14 columns):\n",
        "#  #   Column    Non-Null Count  Dtype  \n",
        "# ---  ------    --------------  -----  \n",
        "#  0   age       303 non-null    int64  \n",
        "#  1   sex       303 non-null    int64  \n",
        "#  2   cp        303 non-null    int64  \n",
        "#  3   trestbps  303 non-null    int64  \n",
        "#  4   chol      303 non-null    int64  \n",
        "#  5   fbs       303 non-null    int64  \n",
        "#  6   restecg   303 non-null    int64  \n",
        "#  7   thalach   303 non-null    int64  \n",
        "#  8   exang     303 non-null    int64  \n",
        "#  9   oldpeak   303 non-null    float64\n",
        "#  10  slope     303 non-null    int64  \n",
        "#  11  ca        303 non-null    int64  \n",
        "#  12  thal      303 non-null    int64  \n",
        "#  13  target    303 non-null    int64  \n",
        "# dtypes: float64(1), int64(13)\n",
        "# memory usage: 33.3 KB"
      ],
      "metadata": {
        "id": "6tJO-wPkBMhh"
      },
      "execution_count": null,
      "outputs": []
    },
    {
      "cell_type": "markdown",
      "source": [
        "Using dealing with missing values.\n",
        "\n",
        "Result:\n",
        "\n",
        "    RangeIndex: 303 entries, 0 to 302\n",
        "    Data columns (total 14 columns):\n",
        "    #   Column    Non-Null Count  Dtype  \n",
        "    ---  ------    --------------  -----  \n",
        "    0   age       303 non-null    int64  \n",
        "    1   sex       303 non-null    int64  \n",
        "    2   cp        303 non-null    int64  \n",
        "    3   trestbps  303 non-null    int64  \n",
        "    4   chol      303 non-null    int64  \n",
        "    5   fbs       303 non-null    int64  \n",
        "    6   restecg   303 non-null    int64  \n",
        "    7   thalach   303 non-null    int64  \n",
        "    8   exang     303 non-null    int64  \n",
        "    9   oldpeak   303 non-null    float64\n",
        "    10  slope     303 non-null    int64  \n",
        "    11  ca        303 non-null    int64  \n",
        "    12  thal      303 non-null    int64\n",
        "    13  target    303 non-null    int64  \n",
        "    dtypes: float64(1), int64(13)\n",
        "    memory usage: 33.3 KB\n",
        "\n",
        "Result is the same, meaning we didn't find any null values."
      ],
      "metadata": {
        "id": "WxSoCB2tJhdG"
      }
    },
    {
      "cell_type": "code",
      "source": [
        "if df.empty:\n",
        "  df.dropna()\n",
        "df.info()"
      ],
      "metadata": {
        "id": "weWNDqvhDCIC"
      },
      "execution_count": null,
      "outputs": []
    },
    {
      "cell_type": "markdown",
      "source": [
        "##Drawing heatmap using Seaborn library.\n",
        "\n",
        "\n",
        "> Result: Let's say if the absolute value of correlation goes higher than 0.4, we say they're correlated.\n",
        "As we can see, these pair are correlated:\n",
        "(target, cp): 0.43 - (target, thalach): 0.42 - (target, exang): -0.44 - (target, oldpeak): -0.43\n",
        "(slope, oldpeak): -0.58\n",
        "(thalach, age): -0.4\n",
        "\n",
        "\n",
        "\n"
      ],
      "metadata": {
        "id": "nFqy2n3lJq6X"
      }
    },
    {
      "cell_type": "code",
      "source": [
        "plt.figure(figsize = (16, 8))\n",
        "\n",
        "correlation_matrix = df.corr()\n",
        "sns.heatmap(correlation_matrix, annot = True, cmap='YlGnBu')\n",
        "plt.show() "
      ],
      "metadata": {
        "id": "TGlhMZeRFJ9n"
      },
      "execution_count": null,
      "outputs": []
    },
    {
      "cell_type": "markdown",
      "source": [
        "##Defining X and Y values and normalizing X values using StandardScaler().\n",
        "* Data Standardization gives the data zero mean and unit variance, it is good practice, especially for algorithms such as KNN which is based on the distance of data points:\n"
      ],
      "metadata": {
        "id": "gkrlGfZ6J8i8"
      }
    },
    {
      "cell_type": "code",
      "source": [
        "df.columns #['age', 'sex', 'cp', 'trestbps', 'chol', 'fbs', 'restecg', 'thalach',\n",
        "           #  'exang', 'oldpeak', 'slope', 'ca', 'thal', 'target']\n",
        "X_values = df[['age', 'sex', 'cp', 'trestbps', 'chol', 'fbs', 'restecg', 'thalach',\n",
        "       'exang', 'oldpeak', 'slope', 'ca', 'thal']].values # First 13 columns\n",
        "Y_values = df[['target']].values # Last column\n",
        "\n",
        "# Normalization\n",
        "scaler = preprocessing.StandardScaler().fit(X_values)\n",
        "X_values_normalized = scaler.transform(X_values.astype(float))\n",
        "# X_values_normalized[:1]"
      ],
      "metadata": {
        "id": "NcGRumQFHA4p"
      },
      "execution_count": null,
      "outputs": []
    },
    {
      "cell_type": "markdown",
      "source": [
        "##Now by having normalized X values and Y values, we will split our data to train set and test set.\n",
        "\n",
        "\n",
        "* Out of Sample Accuracy is the percentage of correct predictions that the model makes on data that the model has NOT been trained on. Doing a train and test on the same dataset will most likely have low out-of-sample accuracy, due to the likelihood of our model overfitting.\n",
        "\n",
        "* It is important that our models have a high, out-of-sample accuracy, because the purpose of any model, of course, is to make correct predictions on unknown data. So how can we improve out-of-sample accuracy? One way is to use an evaluation approach called Train/Test Split.\n",
        "Train/Test Split involves splitting the dataset into training and testing sets respectively, which are mutually exclusive. After which, you train with the training set and test with the testing set.\n",
        "\n",
        "* This will provide a more accurate evaluation on \n",
        "out-of-sample accuracy because the testing dataset is not part of the dataset that has been used to train the model. It is more realistic for the real world problems.\n",
        "\n"
      ],
      "metadata": {
        "id": "4kN5MyPfKnDS"
      }
    },
    {
      "cell_type": "code",
      "source": [
        "''' Firstly we use 20 percent and then we use 10 percent '''\n",
        "X_train, X_test, y_train, y_test = train_test_split( X_values_normalized, Y_values, test_size=0.2, random_state=4)\n",
        "print ('Train set shape for 20 percent:', X_train.shape,  y_train.shape)\n",
        "print ('Test set shape for 20 percent:', X_test.shape,  y_test.shape)\n",
        "\n",
        "X_train2, X_test2, y_train2, y_test2 = train_test_split( X_values_normalized, Y_values, test_size=0.1, random_state=4)\n",
        "print ('\\n\\nTrain set shape for 10 percent:', X_train2.shape,  y_train2.shape)\n",
        "print ('Test set shape for 10 percent:', X_test2.shape,  y_test2.shape)\n",
        "\n",
        "X_train3, X_test3, y_train3, y_test3 = train_test_split( X_values_normalized, Y_values, test_size=0.5, random_state=4)\n",
        "print ('\\n\\nTrain set shape for 50 percent:', X_train3.shape,  y_train3.shape)\n",
        "print ('Test set shape for 50 percent:', X_test3.shape,  y_test3.shape)"
      ],
      "metadata": {
        "colab": {
          "base_uri": "https://localhost:8080/"
        },
        "id": "xd5YLYm2LUrz",
        "outputId": "1fd8e192-2831-4bde-9810-2b087354c44a"
      },
      "execution_count": 56,
      "outputs": [
        {
          "output_type": "stream",
          "name": "stdout",
          "text": [
            "Train set shape for 20 percent: (242, 13) (242, 1)\n",
            "Test set shape for 20 percent: (61, 13) (61, 1)\n",
            "\n",
            "\n",
            "Train set shape for 10 percent: (272, 13) (272, 1)\n",
            "Test set shape for 10 percent: (31, 13) (31, 1)\n",
            "\n",
            "\n",
            "Train set shape for 50 percent: (151, 13) (151, 1)\n",
            "Test set shape for 50 percent: (152, 13) (152, 1)\n"
          ]
        }
      ]
    },
    {
      "cell_type": "markdown",
      "source": [
        "# Classification using K-Nearest Neighbors or KNN"
      ],
      "metadata": {
        "id": "-5CLQ9bqNLl2"
      }
    },
    {
      "cell_type": "markdown",
      "source": [
        "Let's start with k = 4\n",
        "\n",
        "Result: \n",
        "\n",
        "    Second train set accuracy (10%):  0.8566176470588235\n",
        "    Second test set accuracy (10%):  0.7741935483870968\n",
        "    First train set accuracy (20%):  0.859504132231405\n",
        "    First test set accuracy (20%):  0.8032786885245902\n",
        "    Third train set accuracy (50%):  0.8807947019867549\n",
        "    Third test set accuracy (50%):  0.8157894736842105\n",
        "* First train set accuracy is slightly higher, but first test set accuracy is considerably higher, as we expected. If we used more data for training, the accuracy would be even more, but we would risk overfitting our data. In the thirs test set and train set, we observe that our train set accuracy goes to 88% but our test set accuracy does not grow as before."
      ],
      "metadata": {
        "id": "Yt576c8sNqk3"
      }
    },
    {
      "cell_type": "code",
      "source": [
        "''' Training '''\n",
        "k = 4\n",
        "# Train Model and Predict  \n",
        "neigh = KNeighborsClassifier(n_neighbors = k).fit(X_train, y_train)\n",
        "neigh2 = KNeighborsClassifier(n_neighbors = k).fit(X_train2, y_train2)\n",
        "neigh3 = KNeighborsClassifier(n_neighbors = k).fit(X_train3, y_train3)\n",
        "\n",
        "''' Predicting '''\n",
        "yhat = neigh.predict(X_test)\n",
        "# yhat[0:5]\n",
        "\n",
        "yhat2 = neigh.predict(X_test2)\n",
        "# yhat2[0:5]\n",
        "\n",
        "yhat3 = neigh.predict(X_test3)\n",
        "# yhat3[0:5]\n",
        "\n",
        "''' Accuracy '''\n",
        "print('First train set accuracy (20%): ', metrics.accuracy_score(y_train, neigh.predict(X_train)))\n",
        "print('First test set accuracy (20%): ', metrics.accuracy_score(y_test, yhat))\n",
        "print('\\n\\nSecond train set accuracy (10%): ', metrics.accuracy_score(y_train2, neigh.predict(X_train2)))\n",
        "print('Second test set accuracy (10%): ', metrics.accuracy_score(y_test2, yhat2))\n",
        "print('\\n\\nThird train set accuracy (50%): ', metrics.accuracy_score(y_train3, neigh.predict(X_train3)))\n",
        "print('Third test set accuracy (50%): ', metrics.accuracy_score(y_test3, yhat3))"
      ],
      "metadata": {
        "id": "HLoDRRFpNpkN"
      },
      "execution_count": null,
      "outputs": []
    },
    {
      "cell_type": "markdown",
      "source": [
        "##Now we use a 'For' loop to consider other values for K. \n",
        "##We consider values from 1 to 20.\n",
        "\n",
        "Result:\n",
        "\n",
        "    array([0.7704918 , 0.7704918 , 0.80327869, 0.80327869, 0.80327869, 0.81967213, 0.83606557, 0.81967213, 0.81967213, 0.85245902, 0.81967213, 0.83606557, 0.81967213, 0.83606557, 0.80327869, 0.81967213, 0.80327869, 0.80327869, 0.83606557])\n",
        "\n",
        "As we can see, K = 10 is a good choice for K.\n",
        "\n",
        "We will check it just to make sure.\n",
        "\n",
        "Checked:\n",
        "\n",
        "    Check train set accuracy (20%):  0.8388429752066116\n",
        "    Check test set accuracy (20%):  0.8524590163934426"
      ],
      "metadata": {
        "id": "m_Q6jJBPR8ac"
      }
    },
    {
      "cell_type": "code",
      "source": [
        "Ks = 20\n",
        "mean_acc = np.zeros((Ks - 1))\n",
        "std_acc = np.zeros((Ks - 1))\n",
        "\n",
        "for n in range(1, Ks):    \n",
        "    # Train Model and Predict  \n",
        "    neigh = KNeighborsClassifier(n_neighbors = n).fit(X_train,y_train)\n",
        "    yhat=neigh.predict(X_test)\n",
        "    mean_acc[n - 1] = metrics.accuracy_score(y_test, yhat)\n",
        "\n",
        "    \n",
        "    std_acc[n - 1]=np.std(yhat == y_test) / np.sqrt(yhat.shape[0])\n",
        "\n",
        "mean_acc\n",
        "\n",
        "print('The best accuracy was with', mean_acc.max(), 'with k =', mean_acc.argmax() + 1)\n"
      ],
      "metadata": {
        "id": "SrseCqgqSHMb"
      },
      "execution_count": null,
      "outputs": []
    },
    {
      "cell_type": "markdown",
      "source": [
        "Checking k = 10"
      ],
      "metadata": {
        "id": "S7Cj83xiTciG"
      }
    },
    {
      "cell_type": "code",
      "source": [
        "''' Training '''\n",
        "k = 10\n",
        "# Train Model and Predict  \n",
        "neigh = KNeighborsClassifier(n_neighbors = k).fit(X_train, y_train)\n",
        "\n",
        "''' Predicting '''\n",
        "yhat = neigh.predict(X_test)\n",
        "# yhat[0:5]\n",
        "\n",
        "''' Accuracy '''\n",
        "print('Check train set accuracy (20%): ', metrics.accuracy_score(y_train, neigh.predict(X_train)))\n",
        "print('Check test set accuracy (20%): ', metrics.accuracy_score(y_test, yhat))"
      ],
      "metadata": {
        "id": "0oQu9rtjTK_-"
      },
      "execution_count": null,
      "outputs": []
    },
    {
      "cell_type": "markdown",
      "source": [
        "## Plotting different Ks"
      ],
      "metadata": {
        "id": "dr15CbN2T7CW"
      }
    },
    {
      "cell_type": "code",
      "source": [
        "plt.plot(range(1, Ks), mean_acc, 'g')\n",
        "plt.fill_between(range(1, Ks), mean_acc - 1 * std_acc, mean_acc + 1 * std_acc, alpha = 0.10)\n",
        "plt.fill_between(range(1, Ks), mean_acc - 3 * std_acc, mean_acc + 3 * std_acc, alpha = 0.10, color='green')\n",
        "plt.legend(('Accuracy ', '+/- 1xstd', '+/- 3xstd'))\n",
        "plt.ylabel('Accuracy ')\n",
        "plt.xlabel('Number of Neighbors (K)')\n",
        "plt.tight_layout()\n",
        "plt.show()"
      ],
      "metadata": {
        "colab": {
          "base_uri": "https://localhost:8080/",
          "height": 297
        },
        "id": "rL6MmWcITpzh",
        "outputId": "70be80b5-35bc-4a3f-eeb0-4d23d4413622"
      },
      "execution_count": 61,
      "outputs": [
        {
          "output_type": "display_data",
          "data": {
            "image/png": "[encoded data removed]",
            "text/plain": [
              "<Figure size 432x288 with 1 Axes>"
            ]
          },
          "metadata": {
            "needs_background": "light"
          }
        }
      ]
    },
    {
      "cell_type": "markdown",
      "source": [
        "## CNF matrix, percision, recall, and F1_score"
      ],
      "metadata": {
        "id": "YJsEscZsUZgQ"
      }
    },
    {
      "cell_type": "code",
      "source": [
        "KNN_cnf_matrix = confusion_matrix(y_test, yhat)\n",
        "KNN_cnf_matrix"
      ],
      "metadata": {
        "colab": {
          "base_uri": "https://localhost:8080/"
        },
        "id": "AcWqCtPQUT_-",
        "outputId": "d18d993b-69ea-4c73-aeba-42f5c09b3a83"
      },
      "execution_count": 65,
      "outputs": [
        {
          "output_type": "execute_result",
          "data": {
            "text/plain": [
              "array([[18,  7],\n",
              "       [ 3, 33]])"
            ]
          },
          "metadata": {},
          "execution_count": 65
        }
      ]
    },
    {
      "cell_type": "code",
      "source": [
        "print(classification_report(y_test, yhat))"
      ],
      "metadata": {
        "colab": {
          "base_uri": "https://localhost:8080/"
        },
        "id": "3pb9UqJ3Uo3K",
        "outputId": "90d2167b-c837-47d2-8035-014e285d20e7"
      },
      "execution_count": 66,
      "outputs": [
        {
          "output_type": "stream",
          "name": "stdout",
          "text": [
            "              precision    recall  f1-score   support\n",
            "\n",
            "           0       0.86      0.72      0.78        25\n",
            "           1       0.82      0.92      0.87        36\n",
            "\n",
            "    accuracy                           0.84        61\n",
            "   macro avg       0.84      0.82      0.83        61\n",
            "weighted avg       0.84      0.84      0.83        61\n",
            "\n"
          ]
        }
      ]
    }
  ]
}